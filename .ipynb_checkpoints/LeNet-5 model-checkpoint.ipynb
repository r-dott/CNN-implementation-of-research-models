{
 "cells": [
  {
   "cell_type": "code",
   "execution_count": 1,
   "id": "3e606c00",
   "metadata": {},
   "outputs": [],
   "source": [
    "import keras\n",
    "import numpy as np"
   ]
  },
  {
   "cell_type": "code",
   "execution_count": null,
   "id": "aed1941c",
   "metadata": {},
   "outputs": [],
   "source": [
    "#to ensure some degree of shift\n",
    "#scale and distortion invariance\n",
    "#local receptive \n",
    "#shared weights"
   ]
  },
  {
   "cell_type": "code",
   "execution_count": 20,
   "id": "ee46d860",
   "metadata": {},
   "outputs": [],
   "source": [
    "from keras import Model, Sequential\n",
    "from keras.layers import Input, Conv2D, AveragePooling2D, Flatten, Dense"
   ]
  },
  {
   "cell_type": "code",
   "execution_count": 21,
   "id": "2b925c55",
   "metadata": {},
   "outputs": [],
   "source": [
    "def LeNet5_model():\n",
    "    model = Sequential()\n",
    "    # layer_in = Input(shape=(32,32,1))\n",
    "\n",
    "    model.add(Conv2D(\n",
    "                    filters=6,\n",
    "                    kernel_size=(5,5),\n",
    "                    activation='tanh',\n",
    "                    input_shape=(32,32,1)\n",
    "                    )\n",
    "             )\n",
    "    #outs 28x28x6\n",
    "\n",
    "    model.add(AveragePooling2D(\n",
    "                        pool_size=(2,2),\n",
    "                        strides= (2,2)\n",
    "                        )\n",
    "             )\n",
    "    #outs 14x14x6\n",
    "\n",
    "\n",
    "    model.add(Conv2D(\n",
    "                    filters=16,\n",
    "                    kernel_size=(5,5),\n",
    "                    activation='relu'\n",
    "                    )\n",
    "             )\n",
    "    #outs 10x10x16\n",
    "\n",
    "\n",
    "    model.add(AveragePooling2D(\n",
    "                    pool_size=(2,2),\n",
    "                    strides=(2,2)\n",
    "                    )\n",
    "             )\n",
    "    #outs 5x5x16\n",
    "\n",
    "\n",
    "    model.add(Conv2D(\n",
    "                    filters=120,\n",
    "                    kernel_size=(5,5),\n",
    "                    activation='relu'\n",
    "                    )\n",
    "             )\n",
    "    #outs 1x1x120  \n",
    "    \n",
    "    model.add(Flatten())\n",
    "    #flattening an already flat layer\n",
    "\n",
    "    model.add(Dense(\n",
    "                    84,\n",
    "                    activation='relu'\n",
    "                    )\n",
    "             )\n",
    "\n",
    "    model.add(Dense(\n",
    "                    10,\n",
    "                    activation='sigmoid'\n",
    "                    )\n",
    "             )\n",
    "    return model"
   ]
  },
  {
   "cell_type": "code",
   "execution_count": 22,
   "id": "d7fc00b4",
   "metadata": {},
   "outputs": [],
   "source": [
    "model = LeNet5_model()"
   ]
  },
  {
   "cell_type": "code",
   "execution_count": 23,
   "id": "c2d29c8f",
   "metadata": {},
   "outputs": [
    {
     "name": "stdout",
     "output_type": "stream",
     "text": [
      "Model: \"sequential_1\"\n",
      "_________________________________________________________________\n",
      " Layer (type)                Output Shape              Param #   \n",
      "=================================================================\n",
      " conv2d_3 (Conv2D)           (None, 28, 28, 6)         156       \n",
      "                                                                 \n",
      " average_pooling2d (AverageP  (None, 14, 14, 6)        0         \n",
      " ooling2D)                                                       \n",
      "                                                                 \n",
      " conv2d_4 (Conv2D)           (None, 10, 10, 16)        2416      \n",
      "                                                                 \n",
      " average_pooling2d_1 (Averag  (None, 5, 5, 16)         0         \n",
      " ePooling2D)                                                     \n",
      "                                                                 \n",
      " conv2d_5 (Conv2D)           (None, 1, 1, 120)         48120     \n",
      "                                                                 \n",
      " flatten (Flatten)           (None, 120)               0         \n",
      "                                                                 \n",
      " dense_2 (Dense)             (None, 84)                10164     \n",
      "                                                                 \n",
      " dense_3 (Dense)             (None, 10)                850       \n",
      "                                                                 \n",
      "=================================================================\n",
      "Total params: 61,706\n",
      "Trainable params: 61,706\n",
      "Non-trainable params: 0\n",
      "_________________________________________________________________\n"
     ]
    }
   ],
   "source": [
    "model.summary()"
   ]
  },
  {
   "cell_type": "code",
   "execution_count": 24,
   "id": "51e82444",
   "metadata": {},
   "outputs": [],
   "source": [
    "model.compile(\n",
    "            optimizer=keras.optimizers.Adam(learning_rate=0.001),\n",
    "            loss= 'sparse_categorical_crossentropy',\n",
    "            metrics=['accuracy']\n",
    "        )"
   ]
  },
  {
   "cell_type": "code",
   "execution_count": 25,
   "id": "98013b7a",
   "metadata": {},
   "outputs": [],
   "source": [
    "import glob\n",
    "from PIL import Image\n",
    "from matplotlib import pyplot as plt\n",
    "from random import shuffle\n",
    "import cv2\n",
    "\n",
    "train_files=glob.glob(\"C:/Users/Rohan/GitHubstuff/test_git/CNN-implementation-of-reasearch-models/fingers/train/*\")\n",
    "shuffle(train_files)\n",
    "\n",
    "X_train=np.zeros((len(train_files),32,32,1))\n",
    "Y_train=np.zeros((len(train_files)))\n",
    "\n",
    "for i,fl in enumerate(train_files):\n",
    "    image = cv2.imread(fl)\n",
    "    gray = cv2.cvtColor(image, cv2.COLOR_BGR2GRAY)\n",
    "    gray= cv2.resize(gray,(32,32))\n",
    "    \n",
    "    gray = np.array(gray)\n",
    "    gray.resize((32,32,1))\n",
    "    \n",
    "    gray=gray/255.0\n",
    "    X_train[i,:,:,:]=gray\n",
    "        \n",
    "    Y_train[i]=fl[-6]"
   ]
  },
  {
   "cell_type": "code",
   "execution_count": 17,
   "id": "a46f3923",
   "metadata": {},
   "outputs": [
    {
     "data": {
      "text/plain": [
       "array([4., 3., 3., ..., 4., 2., 0.])"
      ]
     },
     "execution_count": 17,
     "metadata": {},
     "output_type": "execute_result"
    }
   ],
   "source": [
    "Y_train"
   ]
  },
  {
   "cell_type": "code",
   "execution_count": 26,
   "id": "74cd424c",
   "metadata": {},
   "outputs": [
    {
     "name": "stdout",
     "output_type": "stream",
     "text": [
      "Epoch 1/3\n",
      "450/450 [==============================] - 12s 24ms/step - loss: 0.4802 - accuracy: 0.8260 - val_loss: 0.0488 - val_accuracy: 0.9850\n",
      "Epoch 2/3\n",
      "450/450 [==============================] - 11s 24ms/step - loss: 0.0343 - accuracy: 0.9901 - val_loss: 0.0359 - val_accuracy: 0.9861\n",
      "Epoch 3/3\n",
      "450/450 [==============================] - 11s 24ms/step - loss: 0.0197 - accuracy: 0.9940 - val_loss: 0.0225 - val_accuracy: 0.9911\n"
     ]
    },
    {
     "data": {
      "text/plain": [
       "<keras.callbacks.History at 0x291686dfa90>"
      ]
     },
     "execution_count": 26,
     "metadata": {},
     "output_type": "execute_result"
    }
   ],
   "source": [
    "model.fit(\n",
    "    X_train,\n",
    "    Y_train,\n",
    "    epochs=3,\n",
    "    validation_split=0.2\n",
    "    )"
   ]
  },
  {
   "cell_type": "code",
   "execution_count": 31,
   "id": "4d9dad90",
   "metadata": {},
   "outputs": [],
   "source": [
    "test_files=glob.glob(\"C:/Users/Rohan/GitHubstuff/test_git/CNN-implementation-of-reasearch-models/fingers/test/*\")\n",
    "\n",
    "\n",
    "X_test=np.zeros((len(test_files),32,32,1))\n",
    "Y_test=np.zeros((len(test_files)))\n",
    "\n",
    "for i,fl in enumerate(test_files):\n",
    "    image = cv2.imread(fl)\n",
    "    gray = cv2.cvtColor(image, cv2.COLOR_BGR2GRAY)\n",
    "    gray= cv2.resize(gray,(32,32))\n",
    "    \n",
    "    gray = np.array(gray)\n",
    "    gray.resize((32,32,1))\n",
    "    \n",
    "    gray=gray/255.0\n",
    "    \n",
    "    \n",
    "    X_test[i,:,:,:]=gray\n",
    "        \n",
    "    Y_test[i]=fl[-6]\n",
    "    "
   ]
  },
  {
   "cell_type": "code",
   "execution_count": 32,
   "id": "f50d6c8f",
   "metadata": {},
   "outputs": [
    {
     "name": "stdout",
     "output_type": "stream",
     "text": [
      "113/113 [==============================] - 1s 11ms/step - loss: 0.0227 - accuracy: 0.9928\n"
     ]
    },
    {
     "data": {
      "text/plain": [
       "[0.02265353314578533, 0.9927777647972107]"
      ]
     },
     "execution_count": 32,
     "metadata": {},
     "output_type": "execute_result"
    }
   ],
   "source": [
    "model.evaluate(\n",
    "    X_test,\n",
    "    Y_test\n",
    "    )"
   ]
  }
 ],
 "metadata": {
  "kernelspec": {
   "display_name": "Python 3 (ipykernel)",
   "language": "python",
   "name": "python3"
  },
  "language_info": {
   "codemirror_mode": {
    "name": "ipython",
    "version": 3
   },
   "file_extension": ".py",
   "mimetype": "text/x-python",
   "name": "python",
   "nbconvert_exporter": "python",
   "pygments_lexer": "ipython3",
   "version": "3.10.4"
  }
 },
 "nbformat": 4,
 "nbformat_minor": 5
}
