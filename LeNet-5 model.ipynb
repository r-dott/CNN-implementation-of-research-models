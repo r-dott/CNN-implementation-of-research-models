{
 "cells": [
  {
   "cell_type": "code",
   "execution_count": 1,
   "id": "47e78ac6",
   "metadata": {},
   "outputs": [],
   "source": [
    "import keras\n",
    "import numpy as np"
   ]
  },
  {
   "cell_type": "code",
   "execution_count": null,
   "id": "ea5e15f8",
   "metadata": {},
   "outputs": [],
   "source": [
    "#to ensure some degree of shift\u0004 scale\u0004 and distor\n",
    "tion invariance\u0018 local receptive \u0004elds\u0004 shared weights"
   ]
  },
  {
   "cell_type": "code",
   "execution_count": 2,
   "id": "9d66b986",
   "metadata": {},
   "outputs": [],
   "source": [
    "from keras import Model, Sequential\n",
    "from keras.layers import Input, Conv2D, MaxPooling2D, Flatten, Dense"
   ]
  },
  {
   "cell_type": "code",
   "execution_count": 25,
   "id": "3a72c8fc",
   "metadata": {},
   "outputs": [],
   "source": [
    "model = Sequential()\n",
    "# layer_in = Input(shape=(32,32,1))\n",
    "\n",
    "model.add(Conv2D(\n",
    "                filters=6,\n",
    "                kernel_size=(5,5),\n",
    "                activation='relu',\n",
    "                input_shape=(32,32,1)\n",
    "                )\n",
    "         )\n",
    "#outs 28x28x6\n",
    "\n",
    "model.add(MaxPooling2D(\n",
    "                    pool_size=(2,2),\n",
    "                    strides= 2\n",
    "                    )\n",
    "         )\n",
    "#outs 14x14x6\n",
    "\n",
    "\n",
    "model.add(Conv2D(\n",
    "                filters=16,\n",
    "                kernel_size=(5,5),\n",
    "                activation='relu'\n",
    "                )\n",
    "         )\n",
    "#outs 10x10x16\n",
    "\n",
    "\n",
    "model.add(MaxPooling2D(\n",
    "                pool_size=(2,2),\n",
    "                strides=2\n",
    "                )\n",
    "         )\n",
    "#outs 5x5x16\n",
    "\n",
    "\n",
    "model.add(Conv2D(\n",
    "                filters=120,\n",
    "                kernel_size=(5,5),\n",
    "                activation='relu'\n",
    "                )\n",
    "         )\n",
    "#outs 1x1x120  \n",
    "\n",
    "model.add(Dense(\n",
    "                84,\n",
    "                activation='relu'\n",
    "                )\n",
    "         )\n",
    "\n",
    "model.add(Dense(\n",
    "                10,\n",
    "                activation='sigmoid'\n",
    "                )\n",
    "         )\n"
   ]
  },
  {
   "cell_type": "code",
   "execution_count": 26,
   "id": "87a98cd3",
   "metadata": {},
   "outputs": [
    {
     "name": "stdout",
     "output_type": "stream",
     "text": [
      "Model: \"sequential_3\"\n",
      "_________________________________________________________________\n",
      " Layer (type)                Output Shape              Param #   \n",
      "=================================================================\n",
      " conv2d_10 (Conv2D)          (None, 28, 28, 6)         156       \n",
      "                                                                 \n",
      " max_pooling2d_6 (MaxPooling  (None, 14, 14, 6)        0         \n",
      " 2D)                                                             \n",
      "                                                                 \n",
      " conv2d_11 (Conv2D)          (None, 10, 10, 16)        2416      \n",
      "                                                                 \n",
      " max_pooling2d_7 (MaxPooling  (None, 5, 5, 16)         0         \n",
      " 2D)                                                             \n",
      "                                                                 \n",
      " conv2d_12 (Conv2D)          (None, 1, 1, 120)         48120     \n",
      "                                                                 \n",
      " dense_6 (Dense)             (None, 1, 1, 84)          10164     \n",
      "                                                                 \n",
      " dense_7 (Dense)             (None, 1, 1, 10)          850       \n",
      "                                                                 \n",
      "=================================================================\n",
      "Total params: 61,706\n",
      "Trainable params: 61,706\n",
      "Non-trainable params: 0\n",
      "_________________________________________________________________\n"
     ]
    }
   ],
   "source": [
    "model.summary()"
   ]
  },
  {
   "cell_type": "code",
   "execution_count": 28,
   "id": "3db2eb81",
   "metadata": {},
   "outputs": [],
   "source": [
    "model.compile(\n",
    "            optimizer=keras.optimizers.Adam(learning_rate=0.001),\n",
    "            loss= 'sparse_categorical_crossentropy',\n",
    "            metrics=['accuracy']\n",
    "        )"
   ]
  },
  {
   "cell_type": "code",
   "execution_count": 37,
   "id": "52dca578",
   "metadata": {},
   "outputs": [],
   "source": [
    "import glob\n",
    "from PIL import Image\n",
    "from matplotlib import pyplot as plt\n",
    "from random import shuffle\n",
    "import cv2\n",
    "\n",
    "train_files=glob.glob(\"C:/Users/Rohan/GitHubstuff/test_git/CNN-implementation-of-reasearch-models/fingers/train/*\")\n",
    "shuffle(train_files)\n",
    "\n",
    "X_train=np.zeros((len(train_files),32,32,1))\n",
    "Y_train=np.zeros((len(train_files)))\n",
    "\n",
    "for i,fl in enumerate(train_files):\n",
    "    image = cv2.imread(fl)\n",
    "    gray = cv2.cvtColor(image, cv2.COLOR_BGR2GRAY)\n",
    "    gray= cv2.resize(gray,(32,32))\n",
    "    \n",
    "    gray = np.array(gray)\n",
    "    gray.resize((32,32,1))\n",
    "    \n",
    "    X_train[i,:,:,:]=gray\n",
    "        \n",
    "    Y_train[i]=fl[-6]"
   ]
  },
  {
   "cell_type": "code",
   "execution_count": 35,
   "id": "daba5a4a",
   "metadata": {},
   "outputs": [
    {
     "name": "stdout",
     "output_type": "stream",
     "text": [
      "(32, 32, 1)\n"
     ]
    },
    {
     "data": {
      "text/plain": [
       "<matplotlib.image.AxesImage at 0x1e98d9d6e00>"
      ]
     },
     "execution_count": 35,
     "metadata": {},
     "output_type": "execute_result"
    },
    {
     "data": {
      "image/png": "[encoded data removed]",
      "text/plain": [
       "<Figure size 432x288 with 1 Axes>"
      ]
     },
     "metadata": {
      "needs_background": "light"
     },
     "output_type": "display_data"
    }
   ],
   "source": [
    "fl = train_files[0]\n",
    "image = cv2.imread(fl)\n",
    "gray = cv2.cvtColor(image, cv2.COLOR_BGR2GRAY)\n",
    "gray = cv2.resize(gray, (32,32))\n",
    "gray= np.array(gray)\n",
    "gray.resize((32,32,1))\n",
    "print(gray.shape)\n",
    "plt.imshow(gray)"
   ]
  },
  {
   "cell_type": "code",
   "execution_count": 38,
   "id": "dfc35666",
   "metadata": {},
   "outputs": [
    {
     "name": "stdout",
     "output_type": "stream",
     "text": [
      "Epoch 1/3\n",
      "450/450 [==============================] - 17s 35ms/step - loss: 0.0891 - accuracy: 0.1910 - val_loss: 0.0243 - val_accuracy: 0.1916\n",
      "Epoch 2/3\n",
      "450/450 [==============================] - 12s 27ms/step - loss: 0.0020 - accuracy: 0.1923 - val_loss: 1.2914e-04 - val_accuracy: 0.1918\n",
      "Epoch 3/3\n",
      "450/450 [==============================] - 12s 27ms/step - loss: 3.2397e-05 - accuracy: 0.1914 - val_loss: 5.5700e-05 - val_accuracy: 0.1918\n"
     ]
    },
    {
     "data": {
      "text/plain": [
       "<keras.callbacks.History at 0x1e996cfc040>"
      ]
     },
     "execution_count": 38,
     "metadata": {},
     "output_type": "execute_result"
    }
   ],
   "source": [
    "model.fit(\n",
    "    X_train,\n",
    "    Y_train,\n",
    "    validation_split= 0.2 ,\n",
    "    epochs=3\n",
    ")"
   ]
  },
  {
   "cell_type": "code",
   "execution_count": null,
   "id": "31b6a0d6",
   "metadata": {},
   "outputs": [],
   "source": []
  }
 ],
 "metadata": {
  "kernelspec": {
   "display_name": "Python 3 (ipykernel)",
   "language": "python",
   "name": "python3"
  },
  "language_info": {
   "codemirror_mode": {
    "name": "ipython",
    "version": 3
   },
   "file_extension": ".py",
   "mimetype": "text/x-python",
   "name": "python",
   "nbconvert_exporter": "python",
   "pygments_lexer": "ipython3",
   "version": "3.10.4"
  }
 },
 "nbformat": 4,
 "nbformat_minor": 5
}
