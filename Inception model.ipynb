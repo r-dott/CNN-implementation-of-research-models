{
 "cells": [
  {
   "cell_type": "code",
   "execution_count": 2,
   "id": "6456dcd4",
   "metadata": {},
   "outputs": [],
   "source": [
    "import keras\n",
    "import numpy as np"
   ]
  },
  {
   "cell_type": "code",
   "execution_count": 3,
   "id": "ed5630dc",
   "metadata": {},
   "outputs": [],
   "source": [
    "from keras.layers import Input,Conv2D, Dense, Flatten, MaxPooling2D"
   ]
  },
  {
   "cell_type": "code",
   "execution_count": 4,
   "id": "6b4917aa",
   "metadata": {},
   "outputs": [],
   "source": [
    "from keras import Sequential, Model"
   ]
  },
  {
   "cell_type": "code",
   "execution_count": 5,
   "id": "9c76d2bc",
   "metadata": {},
   "outputs": [],
   "source": [
    "from keras.layers import concatenate"
   ]
  },
  {
   "cell_type": "code",
   "execution_count": 6,
   "id": "9e989dd9",
   "metadata": {},
   "outputs": [],
   "source": [
    "#a basic inception block\n",
    "#in this 3x3 and 5x5 convolutions don't have a 1x1 precurring layer\n",
    "#this function is built just for demonstration, due to limited computational ability this layer is not added\n",
    "def basic_inception_block(input_layer, f1,f3,f5):\n",
    "    conv1=Conv2D(\n",
    "        filters=f1,\n",
    "        kernel_size=(1,1),\n",
    "        padding='same',\n",
    "        activation='relu'\n",
    "    )(input_layer)\n",
    "    \n",
    "    \n",
    "    \n",
    "    conv3=Conv2D(\n",
    "        filters=f3,\n",
    "        kernel_size=(3,3),\n",
    "        padding='same',\n",
    "        activation='relu'\n",
    "    )(input_layer)\n",
    "    \n",
    "    \n",
    "    \n",
    "    \n",
    "    conv5=Conv2D(\n",
    "        filters=f5,\n",
    "        kernel_size=(5,5),\n",
    "        padding='same',\n",
    "        activation='relu'\n",
    "    )(input_layer)\n",
    "    \n",
    "    \n",
    "    pooling=MaxPooling2D(\n",
    "        (3,3),\n",
    "        strides=(1,1),\n",
    "        padding='same'\n",
    "    )(input_layer)\n",
    "    \n",
    "    \n",
    "    output_layer=concatenate([conv1,conv3,conv5,pooling], axis=3)\n",
    "    \n",
    "    return output_layer \n",
    "    \n",
    "    "
   ]
  },
  {
   "cell_type": "code",
   "execution_count": 7,
   "id": "c9ab9e6b",
   "metadata": {},
   "outputs": [],
   "source": [
    "input_layer=Input(shape=(32,32,3))\n",
    "iblock1=basic_inception_block(input_layer, 64, 128,32)\n",
    "\n",
    "\n",
    "flat=Flatten()(iblock1)\n",
    "\n",
    "dense1= Dense(60, activation='relu')(flat)\n",
    "dense2= Dense(10, activation='softmax')(dense1)\n",
    "\n",
    "model = Model(inputs=input_layer, outputs=dense2)"
   ]
  },
  {
   "cell_type": "code",
   "execution_count": 8,
   "id": "19dcac1e",
   "metadata": {},
   "outputs": [
    {
     "name": "stdout",
     "output_type": "stream",
     "text": [
      "Model: \"model\"\n",
      "__________________________________________________________________________________________________\n",
      " Layer (type)                   Output Shape         Param #     Connected to                     \n",
      "==================================================================================================\n",
      " input_1 (InputLayer)           [(None, 32, 32, 3)]  0           []                               \n",
      "                                                                                                  \n",
      " conv2d (Conv2D)                (None, 32, 32, 64)   256         ['input_1[0][0]']                \n",
      "                                                                                                  \n",
      " conv2d_1 (Conv2D)              (None, 32, 32, 128)  3584        ['input_1[0][0]']                \n",
      "                                                                                                  \n",
      " conv2d_2 (Conv2D)              (None, 32, 32, 32)   2432        ['input_1[0][0]']                \n",
      "                                                                                                  \n",
      " max_pooling2d (MaxPooling2D)   (None, 32, 32, 3)    0           ['input_1[0][0]']                \n",
      "                                                                                                  \n",
      " concatenate (Concatenate)      (None, 32, 32, 227)  0           ['conv2d[0][0]',                 \n",
      "                                                                  'conv2d_1[0][0]',               \n",
      "                                                                  'conv2d_2[0][0]',               \n",
      "                                                                  'max_pooling2d[0][0]']          \n",
      "                                                                                                  \n",
      " flatten (Flatten)              (None, 232448)       0           ['concatenate[0][0]']            \n",
      "                                                                                                  \n",
      " dense (Dense)                  (None, 60)           13946940    ['flatten[0][0]']                \n",
      "                                                                                                  \n",
      " dense_1 (Dense)                (None, 10)           610         ['dense[0][0]']                  \n",
      "                                                                                                  \n",
      "==================================================================================================\n",
      "Total params: 13,953,822\n",
      "Trainable params: 13,953,822\n",
      "Non-trainable params: 0\n",
      "__________________________________________________________________________________________________\n"
     ]
    }
   ],
   "source": [
    "model.summary()"
   ]
  },
  {
   "cell_type": "code",
   "execution_count": 9,
   "id": "8c4dea3e",
   "metadata": {},
   "outputs": [],
   "source": [
    "#data pre processing\n",
    "import glob\n",
    "from PIL import Image\n",
    "from matplotlib import pyplot as plt\n",
    "from random import shuffle\n",
    "import cv2\n",
    "\n",
    "train_files=glob.glob(\"C:/Users/Rohan/GitHubstuff/test_git/CNN-implementation-of-reasearch-models/fingers/train/*\")\n",
    "shuffle(train_files)\n",
    "\n",
    "X_train=np.zeros((len(train_files),32,32,3))\n",
    "Y_train=np.zeros((len(train_files)))\n",
    "\n",
    "for i,fl in enumerate(train_files):\n",
    "    image = cv2.imread(fl)\n",
    "    gray = cv2.cvtColor(image, cv2.COLOR_BGR2GRAY)\n",
    "    backtorgb = cv2.cvtColor(gray,cv2.COLOR_GRAY2RGB)\n",
    "    \n",
    "    backtorgb = cv2.resize(backtorgb,(32,32))\n",
    "    backtorgb= backtorgb/255\n",
    "    \n",
    "    \n",
    "    X_train[i,:,:,:]=backtorgb\n",
    "        \n",
    "    Y_train[i]=fl[-6]\n",
    "    "
   ]
  },
  {
   "cell_type": "code",
   "execution_count": 10,
   "id": "bdd537da",
   "metadata": {},
   "outputs": [],
   "source": [
    "# inception model with dimension reduction; less parameters using 1x1 convolutions precurring the 3x3 and 5x5 convolution layers\n",
    "def reduced_dimension_inception_block(input_layer, f1, f3_in, f3_out, f5_in, f5_out, pool_out):\n",
    "    \n",
    "    conv1=Conv2D(\n",
    "        filters=f1,\n",
    "        kernel_size=(1,1),\n",
    "        padding='same',\n",
    "        activation='relu'\n",
    "    )(input_layer)\n",
    "    \n",
    "    \n",
    "    \n",
    "    conv3=Conv2D(\n",
    "        filters=f3_in,\n",
    "        kernel_size=(1,1),\n",
    "        padding='same',\n",
    "        activation='relu'\n",
    "    )(input_layer)\n",
    "    \n",
    "    conv3=Conv2D(\n",
    "        filters=f3_out,\n",
    "        kernel_size=(3,3),\n",
    "        padding='same',\n",
    "        activation='relu'\n",
    "    )(conv3)\n",
    "    \n",
    "    \n",
    "    \n",
    "    \n",
    "    conv5=Conv2D(\n",
    "        filters=f5_in,\n",
    "        kernel_size=(1,1),\n",
    "        padding='same',\n",
    "        activation='relu'\n",
    "    )(input_layer)\n",
    "    \n",
    "    conv5=Conv2D(\n",
    "        filters=f5_out,\n",
    "        kernel_size=(5,5),\n",
    "        padding='same',\n",
    "        activation='relu'\n",
    "    )(conv5)\n",
    "    \n",
    "    \n",
    "    \n",
    "    \n",
    "    pooling=MaxPooling2D(\n",
    "        (3,3),\n",
    "        strides=(1,1),\n",
    "        padding='same',\n",
    "    )(input_layer)\n",
    "    \n",
    "    pooling=Conv2D(\n",
    "        filters=pool_out,\n",
    "        kernel_size=(1,1),\n",
    "        padding='same',\n",
    "        activation='relu'\n",
    "    )(pooling)\n",
    "    \n",
    "    \n",
    "    \n",
    "    output_layer=concatenate([conv1,conv3,conv5,pooling], axis=3) #axis 3 is the concatenation axis\n",
    "    \n",
    "    return output_layer\n",
    "    \n",
    "    \n",
    "    \n",
    "   "
   ]
  },
  {
   "cell_type": "code",
   "execution_count": 11,
   "id": "a74dda68",
   "metadata": {},
   "outputs": [],
   "source": [
    "input_layer=Input(shape=(32,32,3))\n",
    "iblock1= reduced_dimension_inception_block(input_layer, 64, 64, 128, 16, 32, 32)\n",
    "\n",
    "\n",
    "flat=Flatten()(iblock1)\n",
    "\n",
    "dense1= Dense(60, activation='relu')(flat)\n",
    "dense2= Dense(10, activation='softmax')(dense1)\n",
    "\n",
    "model = Model(inputs=input_layer, outputs=dense2)"
   ]
  },
  {
   "cell_type": "code",
   "execution_count": 12,
   "id": "8a833d46",
   "metadata": {},
   "outputs": [
    {
     "name": "stdout",
     "output_type": "stream",
     "text": [
      "Model: \"model_1\"\n",
      "__________________________________________________________________________________________________\n",
      " Layer (type)                   Output Shape         Param #     Connected to                     \n",
      "==================================================================================================\n",
      " input_2 (InputLayer)           [(None, 32, 32, 3)]  0           []                               \n",
      "                                                                                                  \n",
      " conv2d_4 (Conv2D)              (None, 32, 32, 64)   256         ['input_2[0][0]']                \n",
      "                                                                                                  \n",
      " conv2d_6 (Conv2D)              (None, 32, 32, 16)   64          ['input_2[0][0]']                \n",
      "                                                                                                  \n",
      " max_pooling2d_1 (MaxPooling2D)  (None, 32, 32, 3)   0           ['input_2[0][0]']                \n",
      "                                                                                                  \n",
      " conv2d_3 (Conv2D)              (None, 32, 32, 64)   256         ['input_2[0][0]']                \n",
      "                                                                                                  \n",
      " conv2d_5 (Conv2D)              (None, 32, 32, 128)  73856       ['conv2d_4[0][0]']               \n",
      "                                                                                                  \n",
      " conv2d_7 (Conv2D)              (None, 32, 32, 32)   12832       ['conv2d_6[0][0]']               \n",
      "                                                                                                  \n",
      " conv2d_8 (Conv2D)              (None, 32, 32, 32)   128         ['max_pooling2d_1[0][0]']        \n",
      "                                                                                                  \n",
      " concatenate_1 (Concatenate)    (None, 32, 32, 256)  0           ['conv2d_3[0][0]',               \n",
      "                                                                  'conv2d_5[0][0]',               \n",
      "                                                                  'conv2d_7[0][0]',               \n",
      "                                                                  'conv2d_8[0][0]']               \n",
      "                                                                                                  \n",
      " flatten_1 (Flatten)            (None, 262144)       0           ['concatenate_1[0][0]']          \n",
      "                                                                                                  \n",
      " dense_2 (Dense)                (None, 60)           15728700    ['flatten_1[0][0]']              \n",
      "                                                                                                  \n",
      " dense_3 (Dense)                (None, 10)           610         ['dense_2[0][0]']                \n",
      "                                                                                                  \n",
      "==================================================================================================\n",
      "Total params: 15,816,702\n",
      "Trainable params: 15,816,702\n",
      "Non-trainable params: 0\n",
      "__________________________________________________________________________________________________\n"
     ]
    }
   ],
   "source": [
    "model.summary()"
   ]
  },
  {
   "cell_type": "code",
   "execution_count": 13,
   "id": "5cbdf1d9",
   "metadata": {},
   "outputs": [],
   "source": [
    "model.compile(\n",
    "    optimizer= keras.optimizers.Adam(learning_rate=0.001),\n",
    "    loss= 'sparse_categorical_crossentropy',\n",
    "    metrics=['accuracy']\n",
    ")"
   ]
  },
  {
   "cell_type": "code",
   "execution_count": 14,
   "id": "805f57c2",
   "metadata": {},
   "outputs": [
    {
     "name": "stdout",
     "output_type": "stream",
     "text": [
      "Epoch 1/3\n",
      "450/450 [==============================] - 77s 169ms/step - loss: 0.2501 - accuracy: 0.9365 - val_loss: 0.0515 - val_accuracy: 0.9811\n",
      "Epoch 2/3\n",
      "450/450 [==============================] - 86s 190ms/step - loss: 0.0068 - accuracy: 0.9987 - val_loss: 0.0024 - val_accuracy: 0.9997\n",
      "Epoch 3/3\n",
      "450/450 [==============================] - 115s 255ms/step - loss: 0.0013 - accuracy: 0.9999 - val_loss: 0.0024 - val_accuracy: 1.0000\n"
     ]
    },
    {
     "data": {
      "text/plain": [
       "<keras.callbacks.History at 0x13cfad7b0d0>"
      ]
     },
     "execution_count": 14,
     "metadata": {},
     "output_type": "execute_result"
    }
   ],
   "source": [
    "model.fit(\n",
    "    X_train,\n",
    "    Y_train,\n",
    "    validation_split=0.2,\n",
    "    epochs=3)"
   ]
  },
  {
   "cell_type": "code",
   "execution_count": null,
   "id": "a0cf2e4b",
   "metadata": {},
   "outputs": [],
   "source": [
    "#we can observe remarkable accuracy of 100% with this model.\n",
    "#not evaluation and predictions"
   ]
  },
  {
   "cell_type": "code",
   "execution_count": 15,
   "id": "5ad923f1",
   "metadata": {},
   "outputs": [],
   "source": [
    "test_files=glob.glob(\"C:/Users/Rohan/GitHubstuff/test_git/CNN-implementation-of-reasearch-models/fingers/test/*\")\n",
    "\n",
    "\n",
    "X_test=np.zeros((len(test_files),32,32,3))\n",
    "Y_test=np.zeros((len(test_files)))\n",
    "\n",
    "for i,fl in enumerate(test_files):\n",
    "    image = cv2.imread(fl)\n",
    "    gray = cv2.cvtColor(image, cv2.COLOR_BGR2GRAY)\n",
    "    backtorgb = cv2.cvtColor(gray,cv2.COLOR_GRAY2RGB)\n",
    "    \n",
    "    backtorgb = cv2.resize(backtorgb,(32,32))\n",
    "    backtorgb= backtorgb/255\n",
    "    \n",
    "    \n",
    "    X_test[i,:,:,:]=backtorgb\n",
    "        \n",
    "    Y_test[i]=fl[-6]\n",
    "    "
   ]
  },
  {
   "cell_type": "code",
   "execution_count": 16,
   "id": "6afc49e2",
   "metadata": {
    "scrolled": true
   },
   "outputs": [
    {
     "name": "stdout",
     "output_type": "stream",
     "text": [
      "113/113 [==============================] - 4s 36ms/step - loss: 0.0018 - accuracy: 0.9997\n"
     ]
    },
    {
     "data": {
      "text/plain": [
       "[0.0018048506462946534, 0.9997222423553467]"
      ]
     },
     "execution_count": 16,
     "metadata": {},
     "output_type": "execute_result"
    }
   ],
   "source": [
    "model.evaluate(X_test, Y_test)"
   ]
  }
 ],
 "metadata": {
  "kernelspec": {
   "display_name": "Python 3 (ipykernel)",
   "language": "python",
   "name": "python3"
  },
  "language_info": {
   "codemirror_mode": {
    "name": "ipython",
    "version": 3
   },
   "file_extension": ".py",
   "mimetype": "text/x-python",
   "name": "python",
   "nbconvert_exporter": "python",
   "pygments_lexer": "ipython3",
   "version": "3.10.4"
  }
 },
 "nbformat": 4,
 "nbformat_minor": 5
}
