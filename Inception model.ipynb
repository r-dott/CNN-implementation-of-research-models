{
 "cells": [
  {
   "cell_type": "code",
   "execution_count": 63,
   "id": "2b6bd38f",
   "metadata": {},
   "outputs": [],
   "source": [
    "import keras\n",
    "import numpy as np"
   ]
  },
  {
   "cell_type": "code",
   "execution_count": 64,
   "id": "aa6b88cc",
   "metadata": {},
   "outputs": [],
   "source": [
    "from keras.layers import Input,Conv2D, Dense, Flatten, MaxPooling2D"
   ]
  },
  {
   "cell_type": "code",
   "execution_count": 65,
   "id": "0a24788d",
   "metadata": {},
   "outputs": [],
   "source": [
    "from keras import Sequential, Model"
   ]
  },
  {
   "cell_type": "code",
   "execution_count": 66,
   "id": "e76d52c8",
   "metadata": {},
   "outputs": [],
   "source": [
    "from keras.layers import concatenate"
   ]
  },
  {
   "cell_type": "code",
   "execution_count": 135,
   "id": "8425bba1",
   "metadata": {},
   "outputs": [],
   "source": [
    "#a basic inception block\n",
    "def basic_inception_block(input_layer, f1,f3,f5):\n",
    "    conv1=Conv2D(\n",
    "        filters=f1,\n",
    "        kernel_size=(1,1),\n",
    "        padding='same',\n",
    "        activation='relu'\n",
    "    )(input_layer)\n",
    "    \n",
    "    \n",
    "    \n",
    "    conv3=Conv2D(\n",
    "        filters=f3,\n",
    "        kernel_size=(3,3),\n",
    "        padding='same',\n",
    "        activation='relu'\n",
    "    )(input_layer)\n",
    "    \n",
    "    \n",
    "    \n",
    "    \n",
    "    conv5=Conv2D(\n",
    "        filters=f5,\n",
    "        kernel_size=(5,5),\n",
    "        padding='same',\n",
    "        activation='relu'\n",
    "    )(input_layer)\n",
    "    \n",
    "    \n",
    "    pooling=MaxPooling2D(\n",
    "        (3,3),\n",
    "        strides=(1,1),\n",
    "        padding='same'\n",
    "    )(input_layer)\n",
    "    \n",
    "    \n",
    "    output_layer=concatenate([conv1,conv3,conv5,pooling], axis=3)\n",
    "    \n",
    "    return output_layer \n",
    "    \n",
    "    "
   ]
  },
  {
   "cell_type": "code",
   "execution_count": 136,
   "id": "e045b9f0",
   "metadata": {},
   "outputs": [],
   "source": [
    "input_layer=Input(shape=(32,32,3))\n",
    "iblock1=basic_inception_block(input_layer, 64, 128,32)\n",
    "\n",
    "\n",
    "flat=Flatten()(iblock1)\n",
    "\n",
    "dense1= Dense(60, activation='relu')(flat)\n",
    "dense2= Dense(10, activation='softmax')(dense1)\n",
    "\n",
    "model = Model(inputs=input_layer, outputs=dense2)"
   ]
  },
  {
   "cell_type": "code",
   "execution_count": 138,
   "id": "912f89a5",
   "metadata": {},
   "outputs": [
    {
     "name": "stdout",
     "output_type": "stream",
     "text": [
      "Model: \"model_7\"\n",
      "__________________________________________________________________________________________________\n",
      " Layer (type)                   Output Shape         Param #     Connected to                     \n",
      "==================================================================================================\n",
      " input_26 (InputLayer)          [(None, 32, 32, 3)]  0           []                               \n",
      "                                                                                                  \n",
      " conv2d_111 (Conv2D)            (None, 32, 32, 64)   256         ['input_26[0][0]']               \n",
      "                                                                                                  \n",
      " conv2d_112 (Conv2D)            (None, 32, 32, 128)  3584        ['input_26[0][0]']               \n",
      "                                                                                                  \n",
      " conv2d_113 (Conv2D)            (None, 32, 32, 32)   2432        ['input_26[0][0]']               \n",
      "                                                                                                  \n",
      " max_pooling2d_17 (MaxPooling2D  (None, 32, 32, 3)   0           ['input_26[0][0]']               \n",
      " )                                                                                                \n",
      "                                                                                                  \n",
      " concatenate_17 (Concatenate)   (None, 32, 32, 227)  0           ['conv2d_111[0][0]',             \n",
      "                                                                  'conv2d_112[0][0]',             \n",
      "                                                                  'conv2d_113[0][0]',             \n",
      "                                                                  'max_pooling2d_17[0][0]']       \n",
      "                                                                                                  \n",
      " flatten_9 (Flatten)            (None, 232448)       0           ['concatenate_17[0][0]']         \n",
      "                                                                                                  \n",
      " dense_17 (Dense)               (None, 60)           13946940    ['flatten_9[0][0]']              \n",
      "                                                                                                  \n",
      " dense_18 (Dense)               (None, 10)           610         ['dense_17[0][0]']               \n",
      "                                                                                                  \n",
      "==================================================================================================\n",
      "Total params: 13,953,822\n",
      "Trainable params: 13,953,822\n",
      "Non-trainable params: 0\n",
      "__________________________________________________________________________________________________\n"
     ]
    }
   ],
   "source": [
    "model.summary()"
   ]
  },
  {
   "cell_type": "code",
   "execution_count": 68,
   "id": "a1dcfb35",
   "metadata": {},
   "outputs": [],
   "source": [
    "# inception model with dimension reduction; less parameters using 1x1 convolutions\n",
    "def reduced_dimension_inception_block(input_layer, f1, f3_in, f3_out, f5_in, f5_out, pool_out):\n",
    "    \n",
    "    conv1=Conv2D(\n",
    "        filters=f1,\n",
    "        kernel_size=(1,1),\n",
    "        padding='same',\n",
    "        activation='relu'\n",
    "    )(input_layer)\n",
    "    \n",
    "    \n",
    "    \n",
    "    conv3=Conv2D(\n",
    "        filters=f3_in,\n",
    "        kernel_size=(1,1),\n",
    "        padding='same',\n",
    "        activation='relu'\n",
    "    )(input_layer)\n",
    "    \n",
    "    conv3=Conv2D(\n",
    "        filters=f3_out,\n",
    "        kernel_size=(3,3),\n",
    "        padding='same',\n",
    "        activation='relu'\n",
    "    )(conv3)\n",
    "    \n",
    "    \n",
    "    \n",
    "    \n",
    "    conv5=Conv2D(\n",
    "        filters=f5_in,\n",
    "        kernel_size=(1,1),\n",
    "        padding='same',\n",
    "        activation='relu'\n",
    "    )(input_layer)\n",
    "    \n",
    "    conv5=Conv2D(\n",
    "        filters=f5_out,\n",
    "        kernel_size=(5,5),\n",
    "        padding='same',\n",
    "        activation='relu'\n",
    "    )(conv5)\n",
    "    \n",
    "    \n",
    "    \n",
    "    \n",
    "    pooling=MaxPooling2D(\n",
    "        (3,3),\n",
    "        strides=(1,1),\n",
    "        padding='same',\n",
    "    )(input_layer)\n",
    "    \n",
    "    pooling=Conv2D(\n",
    "        filters=pool_out,\n",
    "        kernel_size=(1,1),\n",
    "        padding='same',\n",
    "        activation='relu'\n",
    "    )(pooling)\n",
    "    \n",
    "    \n",
    "    \n",
    "    output_layer=concatenate([conv1,conv3,conv5,pooling], axis=3) #axis 3 is the concatenation axis\n",
    "    \n",
    "    return output_layer\n",
    "    \n",
    "    \n",
    "    \n",
    "   "
   ]
  },
  {
   "cell_type": "code",
   "execution_count": 117,
   "id": "f2b0b0d2",
   "metadata": {},
   "outputs": [],
   "source": [
    "import glob\n",
    "from PIL import Image\n",
    "from matplotlib import pyplot as plt\n",
    "from random import shuffle\n",
    "import cv2\n",
    "\n",
    "train_files=glob.glob(\"C:/Users/Rohan/GitHubstuff/test_git/CNN-implementation-of-reasearch-models/fingers/train/*\")\n",
    "shuffle(train_files)\n",
    "\n",
    "X_train=np.zeros((len(train_files),32,32,3))\n",
    "Y_train=np.zeros((len(train_files)))\n",
    "\n",
    "for i,fl in enumerate(train_files):\n",
    "    image = cv2.imread(fl)\n",
    "    gray = cv2.cvtColor(image, cv2.COLOR_BGR2GRAY)\n",
    "    backtorgb = cv2.cvtColor(gray,cv2.COLOR_GRAY2RGB)\n",
    "    \n",
    "    backtorgb = cv2.resize(backtorgb,(32,32))\n",
    "    backtorgb= backtorgb/255\n",
    "    \n",
    "    \n",
    "    X_train[i,:,:,:]=backtorgb\n",
    "        \n",
    "    Y_train[i]=fl[-6]\n",
    "    "
   ]
  },
  {
   "cell_type": "code",
   "execution_count": 116,
   "id": "6e3d1462",
   "metadata": {},
   "outputs": [
    {
     "data": {
      "text/plain": [
       "<matplotlib.image.AxesImage at 0x1e130f43100>"
      ]
     },
     "execution_count": 116,
     "metadata": {},
     "output_type": "execute_result"
    },
    {
     "data": {
      "image/png": "[encoded data removed]",
      "text/plain": [
       "<Figure size 432x288 with 1 Axes>"
      ]
     },
     "metadata": {
      "needs_background": "light"
     },
     "output_type": "display_data"
    }
   ],
   "source": [
    "plt.imshow(X_train[1])"
   ]
  },
  {
   "cell_type": "code",
   "execution_count": 92,
   "id": "28fe9b4f",
   "metadata": {},
   "outputs": [
    {
     "name": "stdout",
     "output_type": "stream",
     "text": [
      "(32, 32, 3)\n"
     ]
    },
    {
     "data": {
      "text/plain": [
       "<matplotlib.image.AxesImage at 0x1e120ddd7e0>"
      ]
     },
     "execution_count": 92,
     "metadata": {},
     "output_type": "execute_result"
    },
    {
     "data": {
      "image/png": "[encoded data removed]",
      "text/plain": [
       "<Figure size 432x288 with 1 Axes>"
      ]
     },
     "metadata": {
      "needs_background": "light"
     },
     "output_type": "display_data"
    }
   ],
   "source": [
    "fl=train_files[3]\n",
    "import cv2\n",
    "image = cv2.imread(fl)\n",
    "gray = cv2.cvtColor(image, cv2.COLOR_BGR2GRAY)\n",
    "backtorgb = cv2.cvtColor(gray,cv2.COLOR_GRAY2RGB)\n",
    "backtorgb= cv2.resize(backtorgb,(32,32))\n",
    "print(np.array(backtorgb).shape)\n",
    "plt.imshow(backtorgb)"
   ]
  },
  {
   "cell_type": "code",
   "execution_count": 119,
   "id": "3546e067",
   "metadata": {},
   "outputs": [],
   "source": [
    "input_layer=Input(shape=(32,32,3))\n",
    "iblock1= reduced_dimension_inception_block(input_layer, 64, 64, 128, 16, 32, 32)\n",
    "\n",
    "\n",
    "flat=Flatten()(iblock1)\n",
    "\n",
    "dense1= Dense(60, activation='relu')(flat)\n",
    "dense2= Dense(10, activation='softmax')(dense1)\n",
    "\n",
    "model = Model(inputs=input_layer, outputs=dense2)"
   ]
  },
  {
   "cell_type": "code",
   "execution_count": 120,
   "id": "5cc31baf",
   "metadata": {},
   "outputs": [
    {
     "name": "stdout",
     "output_type": "stream",
     "text": [
      "Model: \"model_6\"\n",
      "__________________________________________________________________________________________________\n",
      " Layer (type)                   Output Shape         Param #     Connected to                     \n",
      "==================================================================================================\n",
      " input_23 (InputLayer)          [(None, 32, 32, 3)]  0           []                               \n",
      "                                                                                                  \n",
      " conv2d_103 (Conv2D)            (None, 32, 32, 64)   256         ['input_23[0][0]']               \n",
      "                                                                                                  \n",
      " conv2d_105 (Conv2D)            (None, 32, 32, 16)   64          ['input_23[0][0]']               \n",
      "                                                                                                  \n",
      " max_pooling2d_15 (MaxPooling2D  (None, 32, 32, 3)   0           ['input_23[0][0]']               \n",
      " )                                                                                                \n",
      "                                                                                                  \n",
      " conv2d_102 (Conv2D)            (None, 32, 32, 64)   256         ['input_23[0][0]']               \n",
      "                                                                                                  \n",
      " conv2d_104 (Conv2D)            (None, 32, 32, 128)  73856       ['conv2d_103[0][0]']             \n",
      "                                                                                                  \n",
      " conv2d_106 (Conv2D)            (None, 32, 32, 32)   12832       ['conv2d_105[0][0]']             \n",
      "                                                                                                  \n",
      " conv2d_107 (Conv2D)            (None, 32, 32, 32)   128         ['max_pooling2d_15[0][0]']       \n",
      "                                                                                                  \n",
      " concatenate_15 (Concatenate)   (None, 32, 32, 256)  0           ['conv2d_102[0][0]',             \n",
      "                                                                  'conv2d_104[0][0]',             \n",
      "                                                                  'conv2d_106[0][0]',             \n",
      "                                                                  'conv2d_107[0][0]']             \n",
      "                                                                                                  \n",
      " flatten_8 (Flatten)            (None, 262144)       0           ['concatenate_15[0][0]']         \n",
      "                                                                                                  \n",
      " dense_15 (Dense)               (None, 60)           15728700    ['flatten_8[0][0]']              \n",
      "                                                                                                  \n",
      " dense_16 (Dense)               (None, 10)           610         ['dense_15[0][0]']               \n",
      "                                                                                                  \n",
      "==================================================================================================\n",
      "Total params: 15,816,702\n",
      "Trainable params: 15,816,702\n",
      "Non-trainable params: 0\n",
      "__________________________________________________________________________________________________\n"
     ]
    }
   ],
   "source": [
    "model.summary()"
   ]
  },
  {
   "cell_type": "code",
   "execution_count": 121,
   "id": "c0d125b3",
   "metadata": {},
   "outputs": [],
   "source": [
    "model.compile(\n",
    "    optimizer= keras.optimizers.Adam(learning_rate=0.001),\n",
    "    loss= 'sparse_categorical_crossentropy',\n",
    "    metrics=['accuracy']\n",
    ")"
   ]
  },
  {
   "cell_type": "code",
   "execution_count": 122,
   "id": "655b64d6",
   "metadata": {},
   "outputs": [
    {
     "name": "stdout",
     "output_type": "stream",
     "text": [
      "Epoch 1/3\n",
      "450/450 [==============================] - 82s 181ms/step - loss: 0.1888 - accuracy: 0.9524 - val_loss: 0.0046 - val_accuracy: 0.9994\n",
      "Epoch 2/3\n",
      "450/450 [==============================] - 97s 216ms/step - loss: 0.0116 - accuracy: 0.9972 - val_loss: 0.0028 - val_accuracy: 0.9989\n",
      "Epoch 3/3\n",
      "450/450 [==============================] - 101s 225ms/step - loss: 0.0020 - accuracy: 0.9994 - val_loss: 8.2248e-04 - val_accuracy: 0.9997\n"
     ]
    },
    {
     "data": {
      "text/plain": [
       "<keras.callbacks.History at 0x1e130db23e0>"
      ]
     },
     "execution_count": 122,
     "metadata": {},
     "output_type": "execute_result"
    }
   ],
   "source": [
    "model.fit(\n",
    "    X_train,\n",
    "    Y_train,\n",
    "    validation_split=0.2,\n",
    "    epochs=3)"
   ]
  },
  {
   "cell_type": "code",
   "execution_count": 123,
   "id": "37f0c059",
   "metadata": {},
   "outputs": [],
   "source": [
    "test_files=glob.glob(\"C:/Users/Rohan/GitHubstuff/test_git/CNN-implementation-of-reasearch-models/fingers/test/*\")\n",
    "\n",
    "\n",
    "X_test=np.zeros((len(test_files),32,32,3))\n",
    "Y_test=np.zeros((len(test_files)))\n",
    "\n",
    "for i,fl in enumerate(test_files):\n",
    "    image = cv2.imread(fl)\n",
    "    gray = cv2.cvtColor(image, cv2.COLOR_BGR2GRAY)\n",
    "    backtorgb = cv2.cvtColor(gray,cv2.COLOR_GRAY2RGB)\n",
    "    \n",
    "    backtorgb = cv2.resize(backtorgb,(32,32))\n",
    "    backtorgb= backtorgb/255\n",
    "    \n",
    "    \n",
    "    X_test[i,:,:,:]=backtorgb\n",
    "        \n",
    "    Y_test[i]=fl[-6]\n",
    "    "
   ]
  },
  {
   "cell_type": "code",
   "execution_count": 124,
   "id": "c4cb6eef",
   "metadata": {},
   "outputs": [
    {
     "name": "stdout",
     "output_type": "stream",
     "text": [
      "113/113 [==============================] - 5s 43ms/step - loss: 0.0013 - accuracy: 0.9997\n"
     ]
    },
    {
     "data": {
      "text/plain": [
       "[0.0012923515168949962, 0.9997222423553467]"
      ]
     },
     "execution_count": 124,
     "metadata": {},
     "output_type": "execute_result"
    }
   ],
   "source": [
    "model.evaluate(X_test, Y_test)"
   ]
  },
  {
   "cell_type": "code",
   "execution_count": 125,
   "id": "c7d7fab3",
   "metadata": {},
   "outputs": [
    {
     "name": "stdout",
     "output_type": "stream",
     "text": [
      "113/113 [==============================] - 5s 43ms/step\n"
     ]
    }
   ],
   "source": [
    "predictions= model.predict(X_test)"
   ]
  },
  {
   "cell_type": "code",
   "execution_count": 129,
   "id": "acd7971b",
   "metadata": {},
   "outputs": [
    {
     "name": "stdout",
     "output_type": "stream",
     "text": [
      "model says this is 5\n"
     ]
    },
    {
     "data": {
      "image/png": "[encoded data removed]",
      "text/plain": [
       "<Figure size 432x288 with 1 Axes>"
      ]
     },
     "metadata": {
      "needs_background": "light"
     },
     "output_type": "display_data"
    }
   ],
   "source": [
    "x=0\n",
    "plt.imshow(X_test[x])\n",
    "print(\"model says this is\", np.argmax(predictions[x]))"
   ]
  },
  {
   "cell_type": "code",
   "execution_count": 131,
   "id": "f4fe8d51",
   "metadata": {},
   "outputs": [
    {
     "name": "stdout",
     "output_type": "stream",
     "text": [
      "model says this is 3\n"
     ]
    },
    {
     "data": {
      "image/png": "[encoded data removed]",
      "text/plain": [
       "<Figure size 432x288 with 1 Axes>"
      ]
     },
     "metadata": {
      "needs_background": "light"
     },
     "output_type": "display_data"
    }
   ],
   "source": [
    "x=2\n",
    "plt.imshow(X_test[x])\n",
    "print(\"model says this is\", np.argmax(predictions[x]))"
   ]
  }
 ],
 "metadata": {
  "kernelspec": {
   "display_name": "Python 3 (ipykernel)",
   "language": "python",
   "name": "python3"
  },
  "language_info": {
   "codemirror_mode": {
    "name": "ipython",
    "version": 3
   },
   "file_extension": ".py",
   "mimetype": "text/x-python",
   "name": "python",
   "nbconvert_exporter": "python",
   "pygments_lexer": "ipython3",
   "version": "3.10.4"
  }
 },
 "nbformat": 4,
 "nbformat_minor": 5
}
